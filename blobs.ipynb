{
 "cells": [
  {
   "cell_type": "code",
   "execution_count": 10,
   "metadata": {},
   "outputs": [],
   "source": [
    "def encontrar_blobs(imagen):\n",
    "    imagen_gray = cv2.cvtColor(imagen, cv2.COLOR_BGR2GRAY)\n",
    "\n",
    "    # Detectar blobs utilizando LoG (Laplacian of Gaussian)\n",
    "    blobs_log = blob_log(imagen_gray, max_sigma=30, num_sigma=10, threshold=0.1)\n",
    "\n",
    "    # Ajustar el valor de radio multiplicando por sqrt(2)\n",
    "    blobs_log[:, 2] = blobs_log[:, 2] * sqrt(2)\n",
    "    return blobs_log"
   ]
  },
  {
   "cell_type": "code",
   "execution_count": 22,
   "metadata": {},
   "outputs": [
    {
     "ename": "AttributeError",
     "evalue": "'NoneType' object has no attribute 'shape'",
     "output_type": "error",
     "traceback": [
      "\u001b[0;31m---------------------------------------------------------------------------\u001b[0m",
      "\u001b[0;31mAttributeError\u001b[0m                            Traceback (most recent call last)",
      "\u001b[1;32m/Users/emmarey/Documents/ICAI/3º IMAT/VPO1/proyecto_final/ProyectoFinalVPO1/blobs.ipynb Cell 2\u001b[0m line \u001b[0;36m4\n\u001b[1;32m      <a href='vscode-notebook-cell:/Users/emmarey/Documents/ICAI/3%C2%BA%20IMAT/VPO1/proyecto_final/ProyectoFinalVPO1/blobs.ipynb#W1sZmlsZQ%3D%3D?line=0'>1</a>\u001b[0m \u001b[39m# Cargar la imagen que deseas procesar\u001b[39;00m\n\u001b[1;32m      <a href='vscode-notebook-cell:/Users/emmarey/Documents/ICAI/3%C2%BA%20IMAT/VPO1/proyecto_final/ProyectoFinalVPO1/blobs.ipynb#W1sZmlsZQ%3D%3D?line=1'>2</a>\u001b[0m imagen_nutella \u001b[39m=\u001b[39m cv2\u001b[39m.\u001b[39mimread(\u001b[39m'\u001b[39m\u001b[39mImagenesObjetos/Mermelada.jpg\u001b[39m\u001b[39m'\u001b[39m)\n\u001b[0;32m----> <a href='vscode-notebook-cell:/Users/emmarey/Documents/ICAI/3%C2%BA%20IMAT/VPO1/proyecto_final/ProyectoFinalVPO1/blobs.ipynb#W1sZmlsZQ%3D%3D?line=3'>4</a>\u001b[0m \u001b[39mprint\u001b[39m(\u001b[39m\"\u001b[39m\u001b[39mDimensiones de la imagen: \u001b[39m\u001b[39m\"\u001b[39m, imagen_nutella\u001b[39m.\u001b[39;49mshape)\n\u001b[1;32m      <a href='vscode-notebook-cell:/Users/emmarey/Documents/ICAI/3%C2%BA%20IMAT/VPO1/proyecto_final/ProyectoFinalVPO1/blobs.ipynb#W1sZmlsZQ%3D%3D?line=5'>6</a>\u001b[0m \u001b[39m# Display image\u001b[39;00m\n\u001b[1;32m      <a href='vscode-notebook-cell:/Users/emmarey/Documents/ICAI/3%C2%BA%20IMAT/VPO1/proyecto_final/ProyectoFinalVPO1/blobs.ipynb#W1sZmlsZQ%3D%3D?line=6'>7</a>\u001b[0m imagen_nutella_color \u001b[39m=\u001b[39m cv2\u001b[39m.\u001b[39mcvtColor(imagen_nutella, cv2\u001b[39m.\u001b[39mCOLOR_BGR2RGB)\n",
      "\u001b[0;31mAttributeError\u001b[0m: 'NoneType' object has no attribute 'shape'"
     ]
    }
   ],
   "source": [
    "# Cargar la imagen que deseas procesar\n",
    "imagen_nutella = cv2.imread('ImagenesObjetos/Mermelada.jpg')\n",
    "\n",
    "print(\"Dimensiones de la imagen: \", imagen_nutella.shape)\n",
    "\n",
    "# Display image\n",
    "imagen_nutella_color = cv2.cvtColor(imagen_nutella, cv2.COLOR_BGR2RGB)\n",
    "plt.imshow(imagen_nutella_color)\n",
    "plt.show()\n",
    "\n",
    "\n",
    "imagen_nutella_gray = cv2.cvtColor(imagen_nutella, cv2.COLOR_BGR2GRAY)\n",
    "\n",
    "# Detectar blobs utilizando LoG (Laplacian of Gaussian)\n",
    "blobs_log_nutella = blob_log(imagen_nutella_gray, max_sigma=30, num_sigma=10, threshold=0.1)\n",
    "\n",
    "# Ajustar el valor de radio multiplicando por sqrt(2)\n",
    "blobs_log_nutella[:, 2] = blobs_log_nutella[:, 2] * sqrt(2)\n",
    "    \n",
    "imagen_nutella_color = cv2.cvtColor(imagen_nutella, cv2.COLOR_BGR2RGB)\n",
    "plt.imshow(imagen_nutella_color, cmap='gray')\n",
    "for blob in blobs_log_nutella:\n",
    "    y, x, r = blob\n",
    "    c = plt.Circle((x, y), r, color='red', linewidth=2, fill=False)\n",
    "    plt.gca().add_patch(c)\n",
    "plt.show()"
   ]
  },
  {
   "cell_type": "code",
   "execution_count": 9,
   "metadata": {},
   "outputs": [],
   "source": [
    "import cv2\n",
    "import numpy as np\n",
    "from matplotlib import pyplot as plt\n",
    "import glob\n",
    "from math import sqrt\n",
    "from skimage.feature import blob_log, blob_dog\n",
    "from skimage.color import rgb2gray\n",
    "import matplotlib.pyplot as plt"
   ]
  }
 ],
 "metadata": {
  "kernelspec": {
   "display_name": "Visualizacion",
   "language": "python",
   "name": "python3"
  },
  "language_info": {
   "codemirror_mode": {
    "name": "ipython",
    "version": 3
   },
   "file_extension": ".py",
   "mimetype": "text/x-python",
   "name": "python",
   "nbconvert_exporter": "python",
   "pygments_lexer": "ipython3",
   "version": "3.9.15"
  }
 },
 "nbformat": 4,
 "nbformat_minor": 2
}
