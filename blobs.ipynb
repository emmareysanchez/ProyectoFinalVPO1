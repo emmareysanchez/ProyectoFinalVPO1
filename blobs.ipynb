{
 "cells": [
  {
   "cell_type": "code",
   "execution_count": null,
   "metadata": {},
   "outputs": [],
   "source": [
    "def encontrar_blobs(imagen):\n",
    "    imagen_gray = cv2.cvtColor(imagen, cv2.COLOR_BGR2GRAY)\n",
    "\n",
    "    # Detectar blobs utilizando LoG (Laplacian of Gaussian)\n",
    "    blobs_log = blob_log(imagen_gray, max_sigma=30, num_sigma=10, threshold=0.1)\n",
    "\n",
    "    # Ajustar el valor de radio multiplicando por sqrt(2)\n",
    "    blobs_log[:, 2] = blobs_log[:, 2] * sqrt(2)\n",
    "    return blobs_log"
   ]
  },
  {
   "cell_type": "code",
   "execution_count": null,
   "metadata": {},
   "outputs": [],
   "source": [
    "# Cargar la imagen que deseas procesar\n",
    "imagen_nutella = cv2.imread('ImagenesObjetos/Nutella.jpg')\n",
    "imagen_nutella_gray = cv2.cvtColor(imagen_nutella, cv2.COLOR_BGR2GRAY)\n",
    "\n",
    "# Detectar blobs utilizando LoG (Laplacian of Gaussian)\n",
    "blobs_log_nutella = blob_log(imagen_nutella_gray, max_sigma=30, num_sigma=10, threshold=0.1)\n",
    "\n",
    "# Ajustar el valor de radio multiplicando por sqrt(2)\n",
    "blobs_log_nutella[:, 2] = blobs_log_nutella[:, 2] * sqrt(2)\n",
    "    \n",
    "imagen_nutella_color = cv2.cvtColor(imagen_nutella, cv2.COLOR_BGR2RGB)\n",
    "plt.imshow(imagen_nutella_color, cmap='gray')\n",
    "for blob in blobs_log_nutella:\n",
    "    y, x, r = blob\n",
    "    c = plt.Circle((x, y), r, color='red', linewidth=2, fill=False)\n",
    "    plt.gca().add_patch(c)\n",
    "plt.show()"
   ]
  },
  {
   "cell_type": "code",
   "execution_count": null,
   "metadata": {},
   "outputs": [],
   "source": [
    "import cv2\n",
    "import numpy as np\n",
    "from matplotlib import pyplot as plt\n",
    "import glob\n",
    "from math import sqrt\n",
    "from skimage.feature import blob_log, blob_dog\n",
    "from skimage.color import rgb2gray\n",
    "import matplotlib.pyplot as plt"
   ]
  }
 ],
 "metadata": {
  "kernelspec": {
   "display_name": "Visualizacion",
   "language": "python",
   "name": "python3"
  },
  "language_info": {
   "codemirror_mode": {
    "name": "ipython",
    "version": 3
   },
   "file_extension": ".py",
   "mimetype": "text/x-python",
   "name": "python",
   "nbconvert_exporter": "python",
   "pygments_lexer": "ipython3",
   "version": "3.9.15"
  }
 },
 "nbformat": 4,
 "nbformat_minor": 2
}
