{
 "cells": [
  {
   "cell_type": "code",
   "execution_count": null,
   "metadata": {},
   "outputs": [],
   "source": [
    "import cv2\n",
    "import numpy as np\n",
    "from picamera2 import Picamera2\n",
    "from pyzbar.pyzbar import decode"
   ]
  },
  {
   "cell_type": "code",
   "execution_count": null,
   "metadata": {},
   "outputs": [],
   "source": [
    "def load_calibration_params(file_path):\n",
    "    try:\n",
    "        calibration_data = np.load(file_path)\n",
    "        camera_matrix = calibration_data['camera_matrix']\n",
    "        dist_coeffs = calibration_data['dist_coeffs']\n",
    "        return camera_matrix, dist_coeffs\n",
    "    except Exception as e:\n",
    "        print(f\"Error loading calibration parameters: {e}\")\n",
    "        return None, None"
   ]
  },
  {
   "cell_type": "code",
   "execution_count": null,
   "metadata": {},
   "outputs": [],
   "source": [
    "def undistort_image(image, camera_matrix, dist_coeffs):\n",
    "    h, w = image.shape[:2]\n",
    "    new_camera_matrix, roi = cv2.getOptimalNewCameraMatrix(camera_matrix, dist_coeffs, (w, h), 1, (w, h))\n",
    "    undistorted_image = cv2.undistort(image, camera_matrix, dist_coeffs, None, new_camera_matrix)\n",
    "    return undistorted_image"
   ]
  },
  {
   "cell_type": "code",
   "execution_count": null,
   "metadata": {},
   "outputs": [],
   "source": [
    "def detect_qr_code(frame):\n",
    "    decoded_objects = decode(frame)\n",
    "    if decoded_objects:\n",
    "        for obj in decoded_objects:\n",
    "            print(f\"Detected QR Code: {obj.data}\")\n",
    "            return obj.data\n",
    "    return None"
   ]
  },
  {
   "cell_type": "code",
   "execution_count": null,
   "metadata": {},
   "outputs": [],
   "source": [
    "def authenticate_user(picam, camera_matrix, dist_coeffs):\n",
    "    print(\"Esperando a que se presente el código QR del usuario...\")\n",
    "\n",
    "    while True:\n",
    "        frame = picam.capture_array()\n",
    "        undistorted_frame = undistort_image(frame, camera_matrix, dist_coeffs)\n",
    "        cv2.imshow(\"picam\", undistorted_frame)\n",
    "\n",
    "        qr_data = detect_qr_code(undistorted_frame)\n",
    "        if qr_data:\n",
    "            print(f\"Usuario autenticado. Código QR detectado: {qr_data}\")\n",
    "            break\n",
    "\n",
    "        key = cv2.waitKey(1) & 0xFF\n",
    "        if key == ord('q'):\n",
    "            break\n",
    "\n",
    "    cv2.destroyAllWindows()\n",
    "\n",
    "def stream_video(calibration_file):\n",
    "    picam = Picamera2()\n",
    "    picam.preview_configuration.main.size = (500, 300)\n",
    "    picam.preview_configuration.main.format = \"RGB888\"\n",
    "    picam.preview_configuration.align()\n",
    "    picam.configure(\"preview\")\n",
    "    picam.start()\n",
    "\n",
    "    # Cargar parámetros de calibración\n",
    "    camera_matrix, dist_coeffs = load_calibration_params(calibration_file)\n",
    "\n",
    "    if camera_matrix is None or dist_coeffs is None:\n",
    "        return\n",
    "\n",
    "    # Autenticar al usuario mediante el código QR\n",
    "    authenticate_user(picam, camera_matrix, dist_coeffs)\n",
    "\n",
    "    # Aquí puedes agregar el código para la función de la cinta\n",
    "\n",
    "if __name__ == \"__main__\":\n",
    "    calibration_file_path = \"calibration_params.npz\"\n",
    "    stream_video(calibration_file_path)\n"
   ]
  }
 ],
 "metadata": {
  "language_info": {
   "name": "python"
  }
 },
 "nbformat": 4,
 "nbformat_minor": 2
}
