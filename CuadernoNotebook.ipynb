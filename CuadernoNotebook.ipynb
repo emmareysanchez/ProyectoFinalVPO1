{
 "cells": [
  {
   "cell_type": "markdown",
   "metadata": {},
   "source": [
    "- Emma Rey Sánchez - 202110801\n",
    "- Catalina Royo-Villanova Seguí - 202104665\n",
    "# Proyecto Final"
   ]
  },
  {
   "cell_type": "code",
   "execution_count": 1,
   "metadata": {},
   "outputs": [],
   "source": [
    "import cv2\n",
    "import numpy as np"
   ]
  },
  {
   "cell_type": "markdown",
   "metadata": {},
   "source": [
    "## Calibración de la cámara"
   ]
  },
  {
   "cell_type": "code",
   "execution_count": 2,
   "metadata": {},
   "outputs": [],
   "source": [
    "# Tamaño del tablero circular (filas, columnas)\n",
    "circle_board_size = (5, 4)\n",
    "\n",
    "# Tamaño del círculo en el tablero (en milímetros)\n",
    "circle_size_mm = 30\n",
    "\n",
    "# Crear un objeto para almacenar las coordenadas 3D del tablero circular\n",
    "objp = np.zeros((circle_board_size[0] * circle_board_size[1], 3), np.float32)\n",
    "\n",
    "# Llenar las coordenadas 3D con los centros de los círculos\n",
    "objp[:, :2] = np.mgrid[0:circle_board_size[0], 0:circle_board_size[1]].T.reshape(-1, 2) * circle_size_mm\n",
    "\n",
    "# Listas para almacenar coordenadas 3D e 2D del tablero\n",
    "obj_points = []  # Coordenadas 3D del mundo real\n",
    "img_points = []  # Coordenadas 2D en la imagen\n",
    "\n",
    "# Inicializar la captura de video desde la cámara de la Raspberry Pi\n",
    "cap = cv2.VideoCapture(0)\n",
    "\n",
    "while True:\n",
    "    # Capturar un solo fotograma\n",
    "    ret, frame = cap.read()\n",
    "    if not ret:\n",
    "        break\n",
    "\n",
    "    # Convertir la imagen a escala de grises\n",
    "    gray = cv2.cvtColor(frame, cv2.COLOR_BGR2GRAY)\n",
    "\n",
    "    # Intentar encontrar el patrón de círculos en la imagen\n",
    "    ret, corners = cv2.findCirclesGrid(gray, circle_board_size, flags=cv2.CALIB_CB_ASYMMETRIC_GRID)\n",
    "\n",
    "    # Si se encuentra el patrón, agregar las coordenadas 3D y 2D a las listas\n",
    "    if ret:\n",
    "        obj_points.append(objp)\n",
    "        img_points.append(corners)\n",
    "\n",
    "        # Dibujar los círculos en la imagen\n",
    "        cv2.drawChessboardCorners(frame, circle_board_size, corners, ret)\n",
    "\n",
    "    # Mostrar la imagen\n",
    "    cv2.imshow('Calibración Circular', frame)\n",
    "\n",
    "    # Esperar a que se presione 'Esc' para salir o 'c' para realizar la calibración\n",
    "    key = cv2.waitKey(1)\n",
    "    if key == 27:\n",
    "        break\n",
    "    elif key == ord('c') and len(obj_points) > 5:\n",
    "        # Calibrar la cámara\n",
    "        ret, mtx, dist, rvecs, tvecs = cv2.calibrateCamera(obj_points, img_points, gray.shape[::-1], None, None)\n",
    "\n",
    "        # Guardar los parámetros de calibración en un archivo\n",
    "        np.savez('calibration_params.npz', mtx=mtx, dist=dist)\n",
    "\n",
    "        print('Calibración completada. Parámetros guardados en calibration_params.npz')\n",
    "        break\n",
    "\n",
    "# Liberar la captura de video y cerrar las ventanas\n",
    "cap.release()\n",
    "cv2.destroyAllWindows()"
   ]
  }
 ],
 "metadata": {
  "kernelspec": {
   "display_name": "Python 3",
   "language": "python",
   "name": "python3"
  },
  "language_info": {
   "codemirror_mode": {
    "name": "ipython",
    "version": 3
   },
   "file_extension": ".py",
   "mimetype": "text/x-python",
   "name": "python",
   "nbconvert_exporter": "python",
   "pygments_lexer": "ipython3",
   "version": "3.9.2"
  }
 },
 "nbformat": 4,
 "nbformat_minor": 2
}
